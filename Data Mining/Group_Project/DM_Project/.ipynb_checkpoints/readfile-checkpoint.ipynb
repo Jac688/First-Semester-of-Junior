{
 "cells": [
  {
   "cell_type": "code",
   "execution_count": null,
   "id": "1c4c1118",
   "metadata": {},
   "outputs": [],
   "source": [
    "def readfile():\n",
    "    docx_name=[]   \n",
    "    filename=[]   \n",
    "    all_file=[]   \n",
    "    #temp1=[]\n",
    "    content=[]\n",
    "    print('文件开始读取')\n",
    "    x=-1\n",
    "    for root, dirs, files in os.walk(PATH_DATA):\n",
    "        #print(x)\n",
    "        if x==-1:\n",
    "            #print(dirs)\n",
    "            for name in dirs:#访问第一层文件夹\n",
    "                #print(name)\n",
    "                filename.append(name)\n",
    "                temp_content=[]\n",
    "        else:\n",
    "            print('已经读取到', filename[x], '文件夹')\n",
    "            temp_content = []\n",
    "            for every_docx_name in files:\n",
    "                # print('hang',hang)\n",
    "                every_file_path = \\\n",
    "                    os.path.join(root, every_docx_name)\n",
    "                # print(every_file_path)\n",
    "                # print(every_file_path)\n",
    "                # print(filename)\n",
    "                try:#判断编码问题\n",
    "                    with codecs.open(every_file_path,\n",
    "                                     encoding='gbk') as f:\n",
    "                        temp = f.read()\n",
    "                        #print('++++',temp)\n",
    "                        '''输出各个文档的信息'''\n",
    "                        print('name', filename[x],\n",
    "                              'docname', every_docx_name,\n",
    "                              'content', len(temp))\n",
    "                        '''执行文档插入操作'''\n",
    "                        print('gbk: ' + every_docx_name)\n",
    "                        print(\"===================\")\n",
    "        x=x+1 \n",
    "        #print(files) \n",
    "finally:\n",
    "        print(\"文件读取完成\")\n",
    "\n",
    " "
   ]
  }
 ],
 "metadata": {
  "kernelspec": {
   "display_name": "Python 3",
   "language": "python",
   "name": "python3"
  },
  "language_info": {
   "codemirror_mode": {
    "name": "ipython",
    "version": 3
   },
   "file_extension": ".py",
   "mimetype": "text/x-python",
   "name": "python",
   "nbconvert_exporter": "python",
   "pygments_lexer": "ipython3",
   "version": "3.8.8"
  }
 },
 "nbformat": 4,
 "nbformat_minor": 5
}
