{
 "cells": [
  {
   "cell_type": "code",
   "execution_count": null,
   "id": "4c875da0",
   "metadata": {},
   "outputs": [],
   "source": [
    "import numpy as np\n",
    "dataset = [[1, 5, 1], [1, 2, 1], [1, 1, 1], [1, 3, 3], [1, 4, 2], [1, 2, 3], [1, 5, 1], [1, 2, 1], [1, 1, 1],\n",
    "                    [1, 3, 3], [1, 4, 2]]\n",
    "actual = [0, 0, 1, 1, 0, 1, 0, 0, 1, 1, 1, 0, 1]\n",
    "def neuro(dataset, actual, apha):\n",
    "    weight = np.zeros(len(dataset[0]))\n",
    "    for i in range(0, len(dataset)):\n",
    "        sum = 0\n",
    "        O = 0\n",
    "        for j in range(0, len(dataset[i])):\n",
    "            sum = sum + dataset[i][j]*weight[j]\n",
    "        if sum > 0:\n",
    "            O = 1\n",
    "        else:\n",
    "            O = 0\n",
    "        det = actual[i]-O\n",
    "        print(det)\n",
    "        weight = weight + apha*det*np.array(dataset[i])\n",
    "        print(weight)\n",
    "neuro1 = neuro(dataset, actual, 0.5)\n",
    "neuro1"
   ]
  }
 ],
 "metadata": {
  "kernelspec": {
   "display_name": "Python 3",
   "language": "python",
   "name": "python3"
  },
  "language_info": {
   "codemirror_mode": {
    "name": "ipython",
    "version": 3
   },
   "file_extension": ".py",
   "mimetype": "text/x-python",
   "name": "python",
   "nbconvert_exporter": "python",
   "pygments_lexer": "ipython3",
   "version": "3.8.8"
  }
 },
 "nbformat": 4,
 "nbformat_minor": 5
}
