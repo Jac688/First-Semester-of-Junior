{
 "cells": [
  {
   "cell_type": "markdown",
   "id": "2b1a1236",
   "metadata": {},
   "source": [
    "## 读取数据集"
   ]
  },
  {
   "cell_type": "code",
   "execution_count": 12,
   "id": "81d2ac1a",
   "metadata": {},
   "outputs": [],
   "source": [
    "training_d = pd.read_csv('./dataset-20211103/training.csv')\n",
    "test_d = pd.read_csv('./dataset-20211103/test.csv')"
   ]
  },
  {
   "cell_type": "code",
   "execution_count": 13,
   "id": "b4d53b3b",
   "metadata": {},
   "outputs": [
    {
     "data": {
      "text/html": [
       "<div>\n",
       "<style scoped>\n",
       "    .dataframe tbody tr th:only-of-type {\n",
       "        vertical-align: middle;\n",
       "    }\n",
       "\n",
       "    .dataframe tbody tr th {\n",
       "        vertical-align: top;\n",
       "    }\n",
       "\n",
       "    .dataframe thead th {\n",
       "        text-align: right;\n",
       "    }\n",
       "</style>\n",
       "<table border=\"1\" class=\"dataframe\">\n",
       "  <thead>\n",
       "    <tr style=\"text-align: right;\">\n",
       "      <th></th>\n",
       "      <th>buying</th>\n",
       "      <th>maint</th>\n",
       "      <th>doors</th>\n",
       "      <th>persons</th>\n",
       "      <th>lug_boot</th>\n",
       "      <th>safety</th>\n",
       "      <th>evaluation</th>\n",
       "    </tr>\n",
       "  </thead>\n",
       "  <tbody>\n",
       "    <tr>\n",
       "      <th>0</th>\n",
       "      <td>high</td>\n",
       "      <td>low</td>\n",
       "      <td>5more</td>\n",
       "      <td>2</td>\n",
       "      <td>med</td>\n",
       "      <td>med</td>\n",
       "      <td>unacc</td>\n",
       "    </tr>\n",
       "    <tr>\n",
       "      <th>1</th>\n",
       "      <td>med</td>\n",
       "      <td>low</td>\n",
       "      <td>5more</td>\n",
       "      <td>4</td>\n",
       "      <td>small</td>\n",
       "      <td>low</td>\n",
       "      <td>unacc</td>\n",
       "    </tr>\n",
       "    <tr>\n",
       "      <th>2</th>\n",
       "      <td>med</td>\n",
       "      <td>med</td>\n",
       "      <td>4</td>\n",
       "      <td>more</td>\n",
       "      <td>med</td>\n",
       "      <td>low</td>\n",
       "      <td>unacc</td>\n",
       "    </tr>\n",
       "    <tr>\n",
       "      <th>3</th>\n",
       "      <td>low</td>\n",
       "      <td>med</td>\n",
       "      <td>3</td>\n",
       "      <td>more</td>\n",
       "      <td>med</td>\n",
       "      <td>low</td>\n",
       "      <td>unacc</td>\n",
       "    </tr>\n",
       "    <tr>\n",
       "      <th>4</th>\n",
       "      <td>low</td>\n",
       "      <td>vhigh</td>\n",
       "      <td>3</td>\n",
       "      <td>more</td>\n",
       "      <td>big</td>\n",
       "      <td>low</td>\n",
       "      <td>unacc</td>\n",
       "    </tr>\n",
       "  </tbody>\n",
       "</table>\n",
       "</div>"
      ],
      "text/plain": [
       "  buying  maint  doors persons lug_boot safety evaluation\n",
       "0   high    low  5more       2      med    med      unacc\n",
       "1    med    low  5more       4    small    low      unacc\n",
       "2    med    med      4    more      med    low      unacc\n",
       "3    low    med      3    more      med    low      unacc\n",
       "4    low  vhigh      3    more      big    low      unacc"
      ]
     },
     "execution_count": 13,
     "metadata": {},
     "output_type": "execute_result"
    }
   ],
   "source": [
    "training_d.head()\n",
    "#test_d.head()"
   ]
  },
  {
   "cell_type": "code",
   "execution_count": 14,
   "id": "1e1a5687",
   "metadata": {},
   "outputs": [
    {
     "data": {
      "text/plain": [
       "(479, 6)"
      ]
     },
     "execution_count": 14,
     "metadata": {},
     "output_type": "execute_result"
    }
   ],
   "source": [
    "test_d.shape"
   ]
  },
  {
   "cell_type": "code",
   "execution_count": 15,
   "id": "4e3d29cb",
   "metadata": {},
   "outputs": [],
   "source": [
    "# for native_bayes\n",
    "dic = {}\n",
    "for i in test_d.values:\n",
    "    out, precise = native_bayes_train(training_d, 'evaluation', i)\n",
    "    if out =='unacc':\n",
    "        if 'unacc' not in dic:\n",
    "            dic['unacc']=1\n",
    "        else:\n",
    "            dic['unacc']+=1\n",
    "    else:\n",
    "        if 'acc' not in dic:\n",
    "            dic['acc']=1\n",
    "        else:\n",
    "            dic['acc']+=1"
   ]
  },
  {
   "cell_type": "code",
   "execution_count": null,
   "id": "4be848bd",
   "metadata": {},
   "outputs": [],
   "source": [
    "dic['unacc']/(dic['unacc']+dic['acc']),dic['acc']/(dic['unacc']+dic['acc'])"
   ]
  },
  {
   "cell_type": "code",
   "execution_count": null,
   "id": "90e6ed97",
   "metadata": {},
   "outputs": [],
   "source": [
    "dic"
   ]
  },
  {
   "cell_type": "markdown",
   "id": "cdc25394",
   "metadata": {},
   "source": [
    "## 朴素贝叶斯实现"
   ]
  },
  {
   "cell_type": "code",
   "execution_count": 3,
   "id": "6163ec42",
   "metadata": {},
   "outputs": [],
   "source": [
    "import pandas as pd\n",
    "import numpy as np\n",
    "import random"
   ]
  },
  {
   "cell_type": "code",
   "execution_count": 4,
   "id": "233be3db",
   "metadata": {},
   "outputs": [],
   "source": [
    "def native_bayes_train(df, labels_column_name,tuples_):\n",
    "    '''this function is return the needed value of calculate \n",
    "    bayes function \n",
    "    df is the dataframe without identical columns'''\n",
    "    #first get the labels,默认为分类问题\n",
    "    #get the num of total record\n",
    "    total_record = len(df)\n",
    "    #create a dic to solve the corresponding value\n",
    "    # the prior probability\n",
    "    dic = {}\n",
    "    for i in df.groupby(labels_column_name).count().itertuples():\n",
    "        dic[i[0]] = [(i[1]+1)/(total_record+len(df.groupby(labels_column_name).count())),i[1]]\n",
    "    # using all the feature except labels to cal the conditional independent values\n",
    "    #print(dic)\n",
    "    dic_2={}\n",
    "    for i in dic.keys():\n",
    "        df_1 = df[df[labels_column_name]==i]\n",
    "        #where a is the conditional independence of given class, cal the x\n",
    "        a = 1\n",
    "        for x,j in enumerate(df_1.drop(labels_column_name, axis=1).iteritems()):\n",
    "            temp=df_1.groupby(j[0]).count()\n",
    "            #get the each value pf calculation\n",
    "            if tuples_[x] not in temp.index:\n",
    "                #using the lapulasi regularization\n",
    "                a*= 1/(dic[i][1]+len(temp))\n",
    "            else:\n",
    "                a*=(temp.loc[tuples_[x]][1]+1)/(dic[i][1]+len(temp))\n",
    "        dic_2[i]= a*dic[i][0]\n",
    "    return max(dic_2,key = dic_2.get),dic_2"
   ]
  },
  {
   "cell_type": "markdown",
   "id": "df818bae",
   "metadata": {},
   "source": [
    "## 实现感知机\n",
    "需要：\n",
    "1. 输入矩阵\n",
    "2. 权重矩阵(多少个神经元)\n",
    "3. 激活函数\n",
    "4. 输出结果\n",
    "5. 反向传播，此处为反馈给权重矩阵"
   ]
  },
  {
   "cell_type": "markdown",
   "id": "07c8867d",
   "metadata": {},
   "source": [
    "## KNN实现\n"
   ]
  },
  {
   "cell_type": "markdown",
   "id": "82716b20",
   "metadata": {},
   "source": [
    "需要：\n",
    "1. 对n个attribute，所有的数据被视为n维空间的一个点\n",
    "2. 任意两个点，我们说其“相近”，即称有small distance base on distance metric\n",
    "3. 一般来说，度量通常使用l2范数（即欧氏距离）\n",
    "4. 对k-nearest neighbour， 即找范围内k个最近的点\n",
    "5. 选择第最多的个数作为你的预测class\n",
    "6. 假设对应的features相同，则将距离为0，否则为1（即越多越远）\n",
    "7. 对高维度的情况下，数据会出现过于稀疏的情况，此时我们需要增大数据量或者降维操作\n",
    "8. 此时高维的情况，可以通过加权来对重要的attributes进行处理\n",
    "9. k是一个超参数，可以通过交叉验证来处理\n",
    "10. 测试时，给予权重 w = 1/(d(xi,xq)), 距离越近，权重越大，即不直接根据个数比较\n"
   ]
  },
  {
   "cell_type": "code",
   "execution_count": null,
   "id": "fb49c16f",
   "metadata": {},
   "outputs": [],
   "source": [
    "def knn(df_train, df_test,labels_column_name,k=3):\n",
    "    '''\n",
    "    k: nearest k number\n",
    "    df: dataframe \n",
    "    df_test: the test data\n",
    "    labels_coulmn_name: labels name\n",
    "    '''\n",
    "    labels = df_train[labels_column_name]\n",
    "    data_size = df_train.shape[0]#total num of features\n",
    "    #cal each point in testing data set to the train dataset\n",
    "    # make sure that all the columns change into 1 and 0\n",
    "    temp = pd.concat([df_train.drop(labels_column_name,axis=1),df_test])\n",
    "    temp= pd.get_dummies(temp)\n",
    "    train_mt = temp[:data_size].values\n",
    "    test_mt = temp[data_size:].values\n",
    "#     print(train_mt.shape,test_mt.shape)\n",
    "    # cal the euclidiean distance\n",
    "    dic ={}\n",
    "    for i in test_mt:\n",
    "        temp={}\n",
    "        subtract_m = np.tile(i,(data_size,1)) - train_mt\n",
    "        #suqare and sum\n",
    "        subtract_m=subtract_m**2\n",
    "        sum_m = np.sum(subtract_m, axis=1)\n",
    "        fin_m=np.sqrt(sum_m)\n",
    "        #print(fin_m.shape)\n",
    "        #then return the index of the maximum\n",
    "        sorted_index=np.argsort(fin_m)\n",
    "        #print(sorted_index)\n",
    "        # the kth minimum distance\n",
    "        for i in range(k):\n",
    "            # get the label index in labels\n",
    "            if labels[sorted_index[i]] not in temp:\n",
    "                temp[labels[sorted_index[i]]]=1\n",
    "            else:\n",
    "                temp[labels[sorted_index[i]]]+=1\n",
    "        if max(temp,key = temp.get) not in dic:\n",
    "            dic[max(temp,key = temp.get)]= 1\n",
    "        else:\n",
    "            dic[max(temp,key = temp.get)]+= 1\n",
    "    return dic"
   ]
  },
  {
   "cell_type": "code",
   "execution_count": null,
   "id": "26f39bf7",
   "metadata": {},
   "outputs": [],
   "source": [
    "training_d.shape,test_d.shape"
   ]
  },
  {
   "cell_type": "code",
   "execution_count": null,
   "id": "da987654",
   "metadata": {},
   "outputs": [],
   "source": [
    "dic2={}"
   ]
  },
  {
   "cell_type": "code",
   "execution_count": null,
   "id": "7b932de4",
   "metadata": {
    "scrolled": true
   },
   "outputs": [],
   "source": [
    "dic2=knn(training_d,test_d, labels_column_name='evaluation')\n",
    "dic2"
   ]
  },
  {
   "cell_type": "code",
   "execution_count": null,
   "id": "6223d17e",
   "metadata": {},
   "outputs": [],
   "source": [
    "dic2['unacc']/(dic2['unacc']+dic2['acc']),dic2['acc']/(dic2['unacc']+dic2['acc'])"
   ]
  },
  {
   "cell_type": "code",
   "execution_count": null,
   "id": "e2ac8367",
   "metadata": {},
   "outputs": [],
   "source": [
    "training_d"
   ]
  },
  {
   "cell_type": "code",
   "execution_count": null,
   "id": "6b559d8f",
   "metadata": {},
   "outputs": [],
   "source": [
    "test_d"
   ]
  },
  {
   "cell_type": "code",
   "execution_count": null,
   "id": "ae75ad36",
   "metadata": {},
   "outputs": [],
   "source": []
  }
 ],
 "metadata": {
  "kernelspec": {
   "display_name": "Python 3",
   "language": "python",
   "name": "python3"
  },
  "language_info": {
   "codemirror_mode": {
    "name": "ipython",
    "version": 3
   },
   "file_extension": ".py",
   "mimetype": "text/x-python",
   "name": "python",
   "nbconvert_exporter": "python",
   "pygments_lexer": "ipython3",
   "version": "3.8.8"
  }
 },
 "nbformat": 4,
 "nbformat_minor": 5
}
