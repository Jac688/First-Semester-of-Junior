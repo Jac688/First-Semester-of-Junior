{
 "cells": [
  {
   "cell_type": "code",
   "execution_count": 1,
   "id": "042679c5",
   "metadata": {},
   "outputs": [],
   "source": [
    "import numpy as np\n",
    "import pandas as pd"
   ]
  },
  {
   "cell_type": "code",
   "execution_count": 3,
   "id": "2304802c",
   "metadata": {},
   "outputs": [
    {
     "name": "stdout",
     "output_type": "stream",
     "text": [
      "    buying  maint  doors persons lug_boot safety\n",
      "0      low  vhigh      3    more      med    med\n",
      "1    vhigh   high      2    more    small   high\n",
      "2    vhigh    med  5more       4      med   high\n",
      "3      med    med  5more       4    small    med\n",
      "4     high    med      4       4    small   high\n",
      "..     ...    ...    ...     ...      ...    ...\n",
      "474    low  vhigh      4       4      big   high\n",
      "475    med  vhigh      3    more      big   high\n",
      "476  vhigh    low      3       4      big   high\n",
      "477    med  vhigh      2       2      med    med\n",
      "478    med  vhigh      2       4      med    low\n",
      "\n",
      "[479 rows x 6 columns]\n"
     ]
    }
   ],
   "source": [
    "filename=\"./dataset/test.csv\"\n",
    "\n",
    "# import the test data\n",
    "from pandas import read_csv\n",
    "f=open(filename,encoding='UTF-8')\n",
    "test=read_csv(f)\n",
    "print(test)"
   ]
  },
  {
   "cell_type": "code",
   "execution_count": 5,
   "id": "8efc4501",
   "metadata": {},
   "outputs": [
    {
     "data": {
      "text/plain": [
       "(<bound method NDFrame.describe of     buying  maint  doors persons lug_boot safety\n",
       " 0      low  vhigh      3    more      med    med\n",
       " 1    vhigh   high      2    more    small   high\n",
       " 2    vhigh    med  5more       4      med   high\n",
       " 3      med    med  5more       4    small    med\n",
       " 4     high    med      4       4    small   high\n",
       " ..     ...    ...    ...     ...      ...    ...\n",
       " 474    low  vhigh      4       4      big   high\n",
       " 475    med  vhigh      3    more      big   high\n",
       " 476  vhigh    low      3       4      big   high\n",
       " 477    med  vhigh      2       2      med    med\n",
       " 478    med  vhigh      2       4      med    low\n",
       " \n",
       " [479 rows x 6 columns]>,\n",
       " Index(['buying', 'maint', 'doors', 'persons', 'lug_boot', 'safety'], dtype='object'))"
      ]
     },
     "execution_count": 5,
     "metadata": {},
     "output_type": "execute_result"
    }
   ],
   "source": [
    "# check the information of test data\n",
    "test.describe, test.columns"
   ]
  },
  {
   "cell_type": "code",
   "execution_count": null,
   "id": "7029741e",
   "metadata": {},
   "outputs": [],
   "source": [
    "# check whether the test data has NaN number\n",
    "test.isnull().any()"
   ]
  },
  {
   "cell_type": "code",
   "execution_count": null,
   "id": "ed9bd64f",
   "metadata": {},
   "outputs": [],
   "source": []
  },
  {
   "cell_type": "code",
   "execution_count": 6,
   "id": "0165b1b9",
   "metadata": {},
   "outputs": [
    {
     "name": "stdout",
     "output_type": "stream",
     "text": [
      "     buying  maint  doors persons lug_boot safety evaluation\n",
      "0      high    low  5more       2      med    med      unacc\n",
      "1       med    low  5more       4    small    low      unacc\n",
      "2       med    med      4    more      med    low      unacc\n",
      "3       low    med      3    more      med    low      unacc\n",
      "4       low  vhigh      3    more      big    low      unacc\n",
      "...     ...    ...    ...     ...      ...    ...        ...\n",
      "1110    med  vhigh  5more    more    small    low      unacc\n",
      "1111  vhigh   high      4       4      big    med      unacc\n",
      "1112  vhigh   high      3    more      med    low      unacc\n",
      "1113    med    med      4       2      big    med      unacc\n",
      "1114    low    low  5more       4    small    low      unacc\n",
      "\n",
      "[1115 rows x 7 columns]\n"
     ]
    }
   ],
   "source": [
    "filename=\"./dataset/training.csv\"\n",
    "\n",
    "# import the training data \n",
    "from pandas import read_csv\n",
    "f=open(filename,encoding='UTF-8')\n",
    "training=read_csv(f)\n",
    "print(training)"
   ]
  },
  {
   "cell_type": "code",
   "execution_count": null,
   "id": "f35e1606",
   "metadata": {},
   "outputs": [],
   "source": []
  },
  {
   "cell_type": "code",
   "execution_count": 7,
   "id": "0471154c",
   "metadata": {},
   "outputs": [
    {
     "data": {
      "text/plain": [
       "(<bound method NDFrame.describe of      buying  maint  doors persons lug_boot safety evaluation\n",
       " 0      high    low  5more       2      med    med      unacc\n",
       " 1       med    low  5more       4    small    low      unacc\n",
       " 2       med    med      4    more      med    low      unacc\n",
       " 3       low    med      3    more      med    low      unacc\n",
       " 4       low  vhigh      3    more      big    low      unacc\n",
       " ...     ...    ...    ...     ...      ...    ...        ...\n",
       " 1110    med  vhigh  5more    more    small    low      unacc\n",
       " 1111  vhigh   high      4       4      big    med      unacc\n",
       " 1112  vhigh   high      3    more      med    low      unacc\n",
       " 1113    med    med      4       2      big    med      unacc\n",
       " 1114    low    low  5more       4    small    low      unacc\n",
       " \n",
       " [1115 rows x 7 columns]>,\n",
       " Index(['buying', 'maint', 'doors', 'persons', 'lug_boot', 'safety',\n",
       "        'evaluation'],\n",
       "       dtype='object'))"
      ]
     },
     "execution_count": 7,
     "metadata": {},
     "output_type": "execute_result"
    }
   ],
   "source": [
    "# check the information of training data\n",
    "training.describe, training.columns"
   ]
  },
  {
   "cell_type": "code",
   "execution_count": 8,
   "id": "d361307c",
   "metadata": {},
   "outputs": [
    {
     "data": {
      "text/plain": [
       "buying        False\n",
       "maint         False\n",
       "doors         False\n",
       "persons       False\n",
       "lug_boot      False\n",
       "safety        False\n",
       "evaluation    False\n",
       "dtype: bool"
      ]
     },
     "execution_count": 8,
     "metadata": {},
     "output_type": "execute_result"
    }
   ],
   "source": [
    "# check whether the test data has NaN number\n",
    "training.isnull().any()"
   ]
  },
  {
   "cell_type": "code",
   "execution_count": 9,
   "id": "4301f1bb",
   "metadata": {},
   "outputs": [
    {
     "name": "stdout",
     "output_type": "stream",
     "text": [
      "unacc    846\n",
      "acc      269\n",
      "Name: evaluation, dtype: int64\n",
      "1\n"
     ]
    }
   ],
   "source": [
    "# Method 1: Naive Bayes\n",
    "evaluation = training['evaluation']\n",
    "evaluation_des=evaluation.value_counts()\n",
    "print(evaluation_des)\n",
    "P_C1=evaluation_des[0]/len(evaluation)    # unacc case\n",
    "P_C2=evaluation_des[1]/len(evaluation)    # acc case\n",
    "P_C1, P_C2\n",
    "print(list(evaluation_des.index).index('acc'))\n"
   ]
  },
  {
   "cell_type": "code",
   "execution_count": 10,
   "id": "5d5dab8f",
   "metadata": {},
   "outputs": [],
   "source": [
    "train_label = training['evaluation']\n",
    "train_attr = training.drop('evaluation', axis=1)\n"
   ]
  },
  {
   "cell_type": "code",
   "execution_count": 18,
   "id": "3191e749",
   "metadata": {},
   "outputs": [
    {
     "data": {
      "text/plain": [
       "(      buying_high  buying_low  buying_med  buying_vhigh  maint_high  \\\n",
       " 0               1           0           0             0           0   \n",
       " 1               0           0           1             0           0   \n",
       " 2               0           0           1             0           0   \n",
       " 3               0           1           0             0           0   \n",
       " 4               0           1           0             0           0   \n",
       " ...           ...         ...         ...           ...         ...   \n",
       " 1110            0           0           1             0           0   \n",
       " 1111            0           0           0             1           1   \n",
       " 1112            0           0           0             1           1   \n",
       " 1113            0           0           1             0           0   \n",
       " 1114            0           1           0             0           0   \n",
       " \n",
       "       maint_low  maint_med  maint_vhigh  doors_2  doors_3  ...  doors_5more  \\\n",
       " 0             1          0            0        0        0  ...            1   \n",
       " 1             1          0            0        0        0  ...            1   \n",
       " 2             0          1            0        0        0  ...            0   \n",
       " 3             0          1            0        0        1  ...            0   \n",
       " 4             0          0            1        0        1  ...            0   \n",
       " ...         ...        ...          ...      ...      ...  ...          ...   \n",
       " 1110          0          0            1        0        0  ...            1   \n",
       " 1111          0          0            0        0        0  ...            0   \n",
       " 1112          0          0            0        0        1  ...            0   \n",
       " 1113          0          1            0        0        0  ...            0   \n",
       " 1114          1          0            0        0        0  ...            1   \n",
       " \n",
       "       persons_2  persons_4  persons_more  lug_boot_big  lug_boot_med  \\\n",
       " 0             1          0             0             0             1   \n",
       " 1             0          1             0             0             0   \n",
       " 2             0          0             1             0             1   \n",
       " 3             0          0             1             0             1   \n",
       " 4             0          0             1             1             0   \n",
       " ...         ...        ...           ...           ...           ...   \n",
       " 1110          0          0             1             0             0   \n",
       " 1111          0          1             0             1             0   \n",
       " 1112          0          0             1             0             1   \n",
       " 1113          1          0             0             1             0   \n",
       " 1114          0          1             0             0             0   \n",
       " \n",
       "       lug_boot_small  safety_high  safety_low  safety_med  \n",
       " 0                  0            0           0           1  \n",
       " 1                  1            0           1           0  \n",
       " 2                  0            0           1           0  \n",
       " 3                  0            0           1           0  \n",
       " 4                  0            0           1           0  \n",
       " ...              ...          ...         ...         ...  \n",
       " 1110               1            0           1           0  \n",
       " 1111               0            0           0           1  \n",
       " 1112               0            0           1           0  \n",
       " 1113               0            0           0           1  \n",
       " 1114               1            0           1           0  \n",
       " \n",
       " [1115 rows x 21 columns],\n",
       " 21)"
      ]
     },
     "execution_count": 18,
     "metadata": {},
     "output_type": "execute_result"
    }
   ],
   "source": [
    "train_input = pd.get_dummies(train_attr)\n",
    "train_input, train_input.shape[1]"
   ]
  },
  {
   "cell_type": "code",
   "execution_count": 24,
   "id": "21eec779",
   "metadata": {},
   "outputs": [
    {
     "data": {
      "text/plain": [
       "(0       1\n",
       " 1       1\n",
       " 2       1\n",
       " 3       1\n",
       " 4       1\n",
       "        ..\n",
       " 1110    1\n",
       " 1111    1\n",
       " 1112    1\n",
       " 1113    1\n",
       " 1114    1\n",
       " Name: evaluation, Length: 1115, dtype: object,\n",
       " (1115,))"
      ]
     },
     "execution_count": 24,
     "metadata": {},
     "output_type": "execute_result"
    }
   ],
   "source": [
    "train_label[train_label=='unacc']=1\n",
    "train_label[train_label=='acc']=0\n",
    "train_label, train_label.shape"
   ]
  },
  {
   "cell_type": "code",
   "execution_count": 36,
   "id": "f23d9deb",
   "metadata": {},
   "outputs": [
    {
     "name": "stdout",
     "output_type": "stream",
     "text": [
      "0.758744394618834 0.24125560538116592\n"
     ]
    },
    {
     "data": {
      "text/plain": [
       "1    846\n",
       "0    269\n",
       "Name: evaluation, dtype: int64"
      ]
     },
     "execution_count": 36,
     "metadata": {},
     "output_type": "execute_result"
    }
   ],
   "source": [
    "# Get the release status of the last target category\n",
    "unacc_pro = train_label[train_label==1].shape[0]/train_label.shape[0]\n",
    "acc_pro = train_label[train_label==0].shape[0]/train_label.shape[0]\n",
    "print(unacc_pro, acc_pro)\n",
    "train_label.value_counts()"
   ]
  },
  {
   "cell_type": "code",
   "execution_count": 38,
   "id": "2d0f6866",
   "metadata": {
    "scrolled": true
   },
   "outputs": [
    {
     "data": {
      "text/plain": [
       "<AxesSubplot:>"
      ]
     },
     "execution_count": 38,
     "metadata": {},
     "output_type": "execute_result"
    },
    {
     "data": {
      "image/png": "[encoded data removed]",
      "text/plain": [
       "<Figure size 432x288 with 1 Axes>"
      ]
     },
     "metadata": {
      "needs_background": "light"
     },
     "output_type": "display_data"
    }
   ],
   "source": [
    "# Plot for all attribute\n",
    "train_input.plot(x=None, y=None, kind='line', ax=None, subplots=False, \n",
    "                sharex=None, sharey=False, layout=None,figsize=None, \n",
    "                use_index=True, title=None, grid=None, legend=True, \n",
    "                style=None, logx=False, logy=False, loglog=False, \n",
    "                xticks=None, yticks=None, xlim=None, ylim=None, rot=None,\n",
    "                xerr=None,secondary_y=False, sort_columns=False)\n"
   ]
  },
  {
   "cell_type": "code",
   "execution_count": 76,
   "id": "d2bc4ae1",
   "metadata": {},
   "outputs": [
    {
     "name": "stdout",
     "output_type": "stream",
     "text": [
      "           0    1    2\n",
      "0        0.0  1.0  1.0\n",
      "1        1.0  1.0  1.0\n",
      "2        2.0  0.0  1.0\n",
      "3        3.0  0.0  1.0\n",
      "4        4.0  0.0  1.0\n",
      "...      ...  ...  ...\n",
      "1110  1110.0  0.0  1.0\n",
      "1111  1111.0  0.0  1.0\n",
      "1112  1112.0  0.0  1.0\n",
      "1113  1113.0  0.0  1.0\n",
      "1114     NaN  1.0  1.0\n",
      "\n",
      "[1115 rows x 3 columns]\n"
     ]
    },
    {
     "data": {
      "text/plain": [
       "<AxesSubplot:xlabel='attr', ylabel='index'>"
      ]
     },
     "execution_count": 76,
     "metadata": {},
     "output_type": "execute_result"
    },
    {
     "data": {
      "image/png": "[encoded data removed]",
      "text/plain": [
       "<Figure size 432x288 with 1 Axes>"
      ]
     },
     "metadata": {
      "needs_background": "light"
     },
     "output_type": "display_data"
    }
   ],
   "source": [
    "# plot for each attribute\n",
    "# for i in range(train_input.shape[1]):\n",
    "a = np.arange(0,1114,1)\n",
    "train_attr = pd.DataFrame([a, train_input.iloc[:,5], train_label]).T\n",
    "print(train_attr)\n",
    "\n",
    "train_attr.columns = ['index','attr', 'label']\n",
    "train_attr.plot(x='attr', y='index', kind='scatter', ax=None, subplots=False, \n",
    "            sharex=None, sharey=False, layout=None,figsize=None, \n",
    "            use_index=True, title=None, grid=None, legend=True, \n",
    "            style=None, logx=False, logy=False, loglog=False, \n",
    "            xticks=None, yticks=None, xlim=None, ylim=None, rot=None,\n",
    "            xerr=None,secondary_y=False, sort_columns=False)"
   ]
  },
  {
   "cell_type": "code",
   "execution_count": 74,
   "id": "e64613d1",
   "metadata": {},
   "outputs": [],
   "source": [
    "# methond 2: All labels are digitized and forward indexed 正向化\n"
   ]
  },
  {
   "cell_type": "code",
   "execution_count": null,
   "id": "143e1a92",
   "metadata": {},
   "outputs": [],
   "source": []
  }
 ],
 "metadata": {
  "kernelspec": {
   "display_name": "Python 3",
   "language": "python",
   "name": "python3"
  },
  "language_info": {
   "codemirror_mode": {
    "name": "ipython",
    "version": 3
   },
   "file_extension": ".py",
   "mimetype": "text/x-python",
   "name": "python",
   "nbconvert_exporter": "python",
   "pygments_lexer": "ipython3",
   "version": "3.8.8"
  }
 },
 "nbformat": 4,
 "nbformat_minor": 5
}
